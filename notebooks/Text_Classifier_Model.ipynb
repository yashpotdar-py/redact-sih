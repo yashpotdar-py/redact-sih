{
 "cells": [
  {
   "cell_type": "markdown",
   "metadata": {},
   "source": [
    "# **Text Classification Model Training**"
   ]
  },
  {
   "cell_type": "markdown",
   "metadata": {},
   "source": [
    "#### Imports"
   ]
  },
  {
   "cell_type": "code",
   "execution_count": 1,
   "metadata": {},
   "outputs": [
    {
     "name": "stderr",
     "output_type": "stream",
     "text": [
      "2024-08-26 13:33:28.965412: E external/local_xla/xla/stream_executor/cuda/cuda_fft.cc:485] Unable to register cuFFT factory: Attempting to register factory for plugin cuFFT when one has already been registered\n",
      "2024-08-26 13:33:28.979609: E external/local_xla/xla/stream_executor/cuda/cuda_dnn.cc:8454] Unable to register cuDNN factory: Attempting to register factory for plugin cuDNN when one has already been registered\n",
      "2024-08-26 13:33:28.984125: E external/local_xla/xla/stream_executor/cuda/cuda_blas.cc:1452] Unable to register cuBLAS factory: Attempting to register factory for plugin cuBLAS when one has already been registered\n",
      "2024-08-26 13:33:28.996540: I tensorflow/core/platform/cpu_feature_guard.cc:210] This TensorFlow binary is optimized to use available CPU instructions in performance-critical operations.\n",
      "To enable the following instructions: AVX2 FMA, in other operations, rebuild TensorFlow with the appropriate compiler flags.\n",
      "2024-08-26 13:33:30.029291: W tensorflow/compiler/tf2tensorrt/utils/py_utils.cc:38] TF-TRT Warning: Could not find TensorRT\n"
     ]
    }
   ],
   "source": [
    "import os\n",
    "import json\n",
    "import random\n",
    "\n",
    "import tensorflow as tf\n",
    "from tensorflow import keras\n",
    "from tensorflow.keras.utils import pad_sequences\n",
    "from tensorflow.keras.preprocessing.text import Tokenizer # type: ignore\n",
    "# from tensorflow.keras.preprocessing.sequence import pad_sequences #type: ignore"
   ]
  },
  {
   "cell_type": "code",
   "execution_count": 2,
   "metadata": {},
   "outputs": [
    {
     "name": "stdout",
     "output_type": "stream",
     "text": [
      "Num GPUs Available:  [PhysicalDevice(name='/physical_device:CPU:0', device_type='CPU'), PhysicalDevice(name='/physical_device:GPU:0', device_type='GPU')]\n"
     ]
    },
    {
     "name": "stderr",
     "output_type": "stream",
     "text": [
      "WARNING: All log messages before absl::InitializeLog() is called are written to STDERR\n",
      "I0000 00:00:1724659410.733065   17898 cuda_executor.cc:1015] successful NUMA node read from SysFS had negative value (-1), but there must be at least one NUMA node, so returning NUMA node zero. See more at https://github.com/torvalds/linux/blob/v6.0/Documentation/ABI/testing/sysfs-bus-pci#L344-L355\n",
      "I0000 00:00:1724659410.756937   17898 cuda_executor.cc:1015] successful NUMA node read from SysFS had negative value (-1), but there must be at least one NUMA node, so returning NUMA node zero. See more at https://github.com/torvalds/linux/blob/v6.0/Documentation/ABI/testing/sysfs-bus-pci#L344-L355\n",
      "I0000 00:00:1724659410.759794   17898 cuda_executor.cc:1015] successful NUMA node read from SysFS had negative value (-1), but there must be at least one NUMA node, so returning NUMA node zero. See more at https://github.com/torvalds/linux/blob/v6.0/Documentation/ABI/testing/sysfs-bus-pci#L344-L355\n"
     ]
    }
   ],
   "source": [
    "print(\"Num GPUs Available: \", (tf.config.list_physical_devices()))"
   ]
  },
  {
   "cell_type": "code",
   "execution_count": 3,
   "metadata": {},
   "outputs": [],
   "source": [
    "dataset_folder = '../data/text/'\n",
    "training_folder = 'training/'\n",
    "testing_folder = 'validation/'\n",
    "sensitive_data = 'SensitiveDataset.json'\n",
    "nonsensitive_data = 'NonSensitiveDataset.json'"
   ]
  },
  {
   "cell_type": "code",
   "execution_count": 4,
   "metadata": {},
   "outputs": [],
   "source": [
    "vocab_size = 3000\n",
    "embedding_dim = 32\n",
    "max_length = 60\n",
    "truncation_type = 'post'\n",
    "padding_type = 'post'\n",
    "oov_tokens = \"<OOV>\"\n",
    "training_size = 20000"
   ]
  },
  {
   "cell_type": "markdown",
   "metadata": {},
   "source": [
    "## Data Preprocessing"
   ]
  },
  {
   "cell_type": "code",
   "execution_count": 5,
   "metadata": {},
   "outputs": [],
   "source": [
    "data_list = []\n",
    "sentences = []\n",
    "labels = []\n",
    "\n",
    "stopwords = [\"a\", \"about\", \"above\", \"after\", \"again\", \"against\", \"all\", \"am\", \"an\", \"and\", \"any\", \"are\",\n",
    "             \"as\", \"at\", \"be\", \"because\", \"been\", \"before\", \"being\", \"below\", \"between\", \"both\", \"but\",\n",
    "             \"by\", \"could\", \"did\", \"do\", \"does\", \"doing\", \"down\", \"during\", \"each\", \"few\", \"for\", \"from\",\n",
    "             \"further\", \"had\", \"has\", \"have\", \"having\", \"he\", \"he'd\", \"he'll\", \"he's\", \"her\", \"here\", \"here's\",\n",
    "             \"hers\", \"herself\", \"him\", \"himself\", \"his\", \"how\", \"how's\", \"i\", \"i'd\", \"i'll\", \"i'm\", \"i've\", \"if\",\n",
    "             \"in\", \"into\", \"is\", \"it\", \"it's\", \"its\", \"itself\", \"let's\", \"me\", \"more\", \"most\", \"my\", \"myself\", \"nor\",\n",
    "             \"of\", \"on\", \"once\", \"only\", \"or\", \"other\", \"ought\", \"our\", \"ours\", \"ourselves\", \"out\", \"over\", \"own\",\n",
    "             \"same\", \"she\", \"she'd\", \"she'll\", \"she's\", \"should\", \"so\", \"some\", \"such\", \"than\", \"that\", \"that's\",\n",
    "             \"the\", \"their\", \"theirs\", \"them\", \"themselves\", \"then\", \"there\", \"there's\", \"these\", \"they\", \"they'd\",\n",
    "             \"they'll\", \"they're\", \"they've\", \"this\", \"those\", \"through\", \"to\", \"too\", \"under\", \"until\", \"up\",\n",
    "             \"very\", \"was\", \"we\", \"we'd\", \"we'll\", \"we're\", \"we've\", \"were\", \"what\", \"what's\", \"when\", \"when's\",\n",
    "             \"where\", \"where's\", \"which\", \"while\", \"who\", \"who's\", \"whom\", \"why\", \"why's\", \"with\", \"would\", \"you\",\n",
    "             \"you'd\", \"you'll\", \"you're\", \"you've\", \"your\", \"yours\", \"yourself\", \"yourselves\"]"
   ]
  },
  {
   "cell_type": "code",
   "execution_count": 6,
   "metadata": {},
   "outputs": [],
   "source": [
    "def load_dataset(filename):\n",
    "    with open(dataset_folder + training_folder + filename, 'r') as f:\n",
    "        datastore = json.load(f)\n",
    "\n",
    "    for item in datastore:\n",
    "        sentence = item['data']\n",
    "        label = item['is_sensitive']\n",
    "        for word in stopwords: # Removing stop words in sentence\n",
    "            token = \" \" + word + \" \"\n",
    "            sentence = sentence.replace(token, \" \")\n",
    "            data_list.append([sentence, label])\n",
    "\n",
    "load_dataset(sensitive_data)\n",
    "load_dataset(nonsensitive_data)"
   ]
  },
  {
   "cell_type": "code",
   "execution_count": 7,
   "metadata": {},
   "outputs": [
    {
     "name": "stdout",
     "output_type": "stream",
     "text": [
      "Dataset Size:  4831128\n"
     ]
    }
   ],
   "source": [
    "random.shuffle(data_list)\n",
    "print(\"Dataset Size: \", len(data_list))"
   ]
  },
  {
   "cell_type": "code",
   "execution_count": 8,
   "metadata": {},
   "outputs": [],
   "source": [
    "for item in data_list:\n",
    "  sentences.append(item[0])\n",
    "  labels.append(item[1])"
   ]
  },
  {
   "cell_type": "code",
   "execution_count": 9,
   "metadata": {},
   "outputs": [],
   "source": [
    "training_sentences = sentences[0:training_size]\n",
    "training_labels = labels[0:training_size]\n",
    "validation_sentences = sentences[training_size:1500000]\n",
    "validation_labels = labels[training_size:1500000]"
   ]
  },
  {
   "cell_type": "code",
   "execution_count": 10,
   "metadata": {},
   "outputs": [
    {
     "name": "stdout",
     "output_type": "stream",
     "text": [
      "****************************************************************************************************\n",
      "Training Dataset Size:  20000\n",
      "Sample Training Data:\n",
      " card no:7128 7034 7084 5885, expiry month:nov-22, card holder name:vasantha  saivarajan, cvv:644\n",
      "****************************************************************************************************\n",
      "Validation Dataset Size:  1480000\n",
      "Sample Validation Data:\n",
      " username:grissel, password:nigga1, email:grissel@rambler.ru, phone no:632734840\n",
      "****************************************************************************************************\n"
     ]
    }
   ],
   "source": [
    "print(\"*\"*100)\n",
    "print(\"Training Dataset Size: \", len(training_sentences))\n",
    "print(\"Sample Training Data:\\n\", training_sentences[0])\n",
    "print(\"*\"*100)\n",
    "print(\"Validation Dataset Size: \", len(validation_sentences))\n",
    "print(\"Sample Validation Data:\\n\", validation_sentences[0])\n",
    "print(\"*\"*100)"
   ]
  },
  {
   "cell_type": "code",
   "execution_count": 11,
   "metadata": {},
   "outputs": [
    {
     "name": "stdout",
     "output_type": "stream",
     "text": [
      "Size of word index: 87942\n",
      "Saving the word index as JSON\n"
     ]
    }
   ],
   "source": [
    "# Tokenizer takes the num_words (here vocab_size = 3000) maximum occuring unique words from the dataset.\n",
    "# Anything out of these words will be treated as Out of Vocabulary(<oov>)\n",
    "# It strips the punctutations and removes upper-case letters.\n",
    "tokenizer = Tokenizer(num_words=vocab_size, oov_token=oov_tokens)\n",
    "\n",
    "# Apply the tokenizer on training sentences and generate the word index\n",
    "# Eg: word_index[\"the\"] = 1; word_index[\"cat\"] = 2; etc.\n",
    "tokenizer.fit_on_texts(training_sentences)\n",
    "\n",
    "# Save the word index (Used for deploying in web application)\n",
    "word_index = tokenizer.word_index\n",
    "print(\"Size of word index:\", len(word_index))\n",
    "os.makedirs('../models', exist_ok=True)\n",
    "with open(\"../models/word_index.json\", \"w\") as outfile:  \n",
    "    json.dump(word_index, outfile)\n",
    "    print(\"Saving the word index as JSON\")\n",
    "\n",
    "# Transforms each word in sentences to a sequence of integers based on the word_index\n",
    "training_sequences = tokenizer.texts_to_sequences(training_sentences)\n",
    "# To feed the text into neural network - sentences must be of the same length. Hence we'll be using padding.\n",
    "# If the sentences are smaller than the maxlen, then we'll pad (Here, we are using post padding)\n",
    "# If the sentences are larger than the maxlen, then we'll truncate (Here, we are using post truncation)\n",
    "training_padded = pad_sequences(training_sequences, maxlen=max_length, \n",
    "                                # padding=padding_type, truncating=truncation_type\n",
    "                                )\n",
    "\n",
    "# Apply the same for validation data\n",
    "validation_sequences = tokenizer.texts_to_sequences(validation_sentences)\n",
    "validation_padded = pad_sequences(validation_sequences, maxlen=max_length, \n",
    "                                #   padding=padding_type, truncating=truncation_type\n",
    "                                  )"
   ]
  },
  {
   "cell_type": "code",
   "execution_count": null,
   "metadata": {},
   "outputs": [],
   "source": [
    "# Convert to Numpy arrays, so as to get it to work with TensorFlow 2.x\n",
    "import numpy as np\n",
    "training_padded = np.array(training_padded)\n",
    "training_labels = np.array(training_labels)\n",
    "validation_padded = np.array(validation_padded)\n",
    "validation_labels = np.array(validation_labels)"
   ]
  },
  {
   "cell_type": "markdown",
   "metadata": {},
   "source": [
    "## Model"
   ]
  },
  {
   "cell_type": "code",
   "execution_count": null,
   "metadata": {},
   "outputs": [],
   "source": [
    "# Callbacks to cancel training after reaching a desired accuracy\n",
    "# This is done to avoid overfitting\n",
    "DESIRED_ACCURACY = 0.999\n",
    "class myCallback(tf.keras.callbacks.Callback):\n",
    "  def on_epoch_end(self, epoch, logs={}):\n",
    "    if logs.get('accuracy') > DESIRED_ACCURACY:\n",
    "      print(\"Reached 99.9% accuracy so cancelling training!\")\n",
    "      self.model.stop_training = True\n",
    "\n",
    "callbacks = myCallback()\n",
    "\n",
    "# Sequential - defines a SEQUENCE of layers in the neural network.\n",
    "model = tf.keras.Sequential([\n",
    "    # Embedding - Turns positive integers (indexes) into dense vectors of fixed size (here embedding_dim = 32).\n",
    "    tf.keras.layers.Embedding(vocab_size, embedding_dim),\n",
    "    # 1D convolution layer - filter size = 128, convolution window = 5, activation fn = ReLU\n",
    "    tf.keras.layers.Conv1D(32, 5, activation='relu'),\n",
    "    # Global average pooling operation (Flattening)\n",
    "    tf.keras.layers.GlobalAveragePooling1D(),\n",
    "    # Regular densely-connected Neural Network layer with ReLU activation function.\n",
    "    tf.keras.layers.Dense(12, activation='relu'),\n",
    "    # Regular densely-connected Neural Network layer with sigmoid activation function.\n",
    "    tf.keras.layers.Dense(1, activation='sigmoid')\n",
    "])\n",
    "\n",
    "# model.compile - Configures the model for training.\n",
    "model.compile(loss='binary_crossentropy',optimizer='adam',metrics=['accuracy'])\n",
    "# Adam -  optimization algorithm used instead of the classical stochastic gradient descent procedure to update network weights.\n",
    "\n",
    "# Display the summary of the model\n",
    "model.summary()"
   ]
  },
  {
   "cell_type": "markdown",
   "metadata": {},
   "source": [
    "## Training"
   ]
  },
  {
   "cell_type": "code",
   "execution_count": null,
   "metadata": {},
   "outputs": [],
   "source": [
    "num_epochs = 10\n",
    "\n",
    "# model.fit - Train the model for a fixed number of epochs\n",
    "history = model.fit(training_padded, \n",
    "                    training_labels, \n",
    "                    epochs=num_epochs, \n",
    "                    validation_data=(\n",
    "                        validation_padded, \n",
    "                        validation_labels), \n",
    "                    verbose=1)\n",
    "                    #callbacks=[callbacks])"
   ]
  },
  {
   "cell_type": "markdown",
   "metadata": {},
   "source": [
    "## Visualising Accuracy and Loss Functions"
   ]
  },
  {
   "cell_type": "code",
   "execution_count": null,
   "metadata": {},
   "outputs": [],
   "source": [
    "import matplotlib.pyplot as plt\n",
    "\n",
    "# Plot the accuracy and loss functions\n",
    "def plot_graphs(history, string):\n",
    "  plt.plot(history.history[string])\n",
    "  plt.plot(history.history['val_'+string])\n",
    "  plt.xlabel(\"Epochs\")\n",
    "  plt.ylabel(string)\n",
    "  plt.legend([string, 'val_'+string])\n",
    "  plt.show()\n",
    "  \n",
    "plot_graphs(history, \"accuracy\")\n",
    "plot_graphs(history, \"loss\")"
   ]
  },
  {
   "cell_type": "markdown",
   "metadata": {},
   "source": [
    "## Confusion Matrix"
   ]
  },
  {
   "cell_type": "code",
   "execution_count": null,
   "metadata": {},
   "outputs": [],
   "source": [
    "import seaborn\n",
    "print('Confusion Matrix')\n",
    "y_predicted = model.predict(validation_padded)\n",
    "y_predicted_labels = y_predicted > 0.5\n",
    "\n",
    "size = np.size(y_predicted_labels)\n",
    "y_predicted_labels = y_predicted_labels.reshape(size, )\n",
    "\n",
    "for i in range (1, 5):\n",
    "  total = i * size // 4\n",
    "  cm = tf.math.confusion_matrix(labels=validation_labels[0:total],predictions=y_predicted_labels[0:total])\n",
    "\n",
    "  # Calculate accuracy\n",
    "  cm_np = cm.numpy()\n",
    "  conf_acc = (cm_np[0, 0] + cm_np[1, 1])/ np.sum(cm_np) * 100\n",
    "  print(\"Accuracy for\", str(total), \"Test Data = \", conf_acc)\n",
    "\n",
    "  # Plot the confusion matrix\n",
    "  plt.figure(figsize = (10,7))\n",
    "  seaborn.heatmap(cm, annot=True, fmt='d')\n",
    "  plt.title(\"Confusion Matrix for \" + str(total) + \" Test Data\")\n",
    "  plt.xlabel('Predicted')\n",
    "  plt.ylabel('Expected')"
   ]
  },
  {
   "cell_type": "markdown",
   "metadata": {},
   "source": [
    "## Locally saving the Model"
   ]
  },
  {
   "cell_type": "code",
   "execution_count": null,
   "metadata": {},
   "outputs": [],
   "source": [
    "model.save('../models/text_model.h5')\n",
    "print(\"Saved the model successfully\")"
   ]
  },
  {
   "cell_type": "code",
   "execution_count": null,
   "metadata": {},
   "outputs": [],
   "source": [
    "!apt-get -qq install virtualenv\n",
    "!virtualenv -p python3 venv\n",
    "!source venv/bin/activate\n",
    "!pip install -q tensorflowjs\n",
    "!tensorflowjs_converter --input_format=keras /content/models/text_model.h5 /content/text_model\n",
    "print(\"Model converted to JSON successfully\")"
   ]
  },
  {
   "cell_type": "markdown",
   "metadata": {},
   "source": [
    "## Testing the Model"
   ]
  },
  {
   "cell_type": "code",
   "execution_count": null,
   "metadata": {},
   "outputs": [],
   "source": [
    "sentence = [\"My credit card no is 124345346\", \n",
    "            \"game of thrones season finale showing this sunday night\",\n",
    "            ]\n",
    "sequences = tokenizer.texts_to_sequences(sentence)\n",
    "padded = pad_sequences(sequences, maxlen=max_length, padding=padding_type, truncating=truncation_type)\n",
    "predictions = model.predict(padded)\n",
    "for i in range(len(predictions)):\n",
    "  print(predictions[i][0])\n",
    "  if predictions[i][0]>0.5:\n",
    "    print(\"Sensitive - \"+ sentence[i])\n",
    "  else:\n",
    "    print(\"Non-Sensitive - \" + sentence[i] )"
   ]
  },
  {
   "cell_type": "code",
   "execution_count": null,
   "metadata": {},
   "outputs": [],
   "source": []
  }
 ],
 "metadata": {
  "kernelspec": {
   "display_name": ".venv",
   "language": "python",
   "name": "python3"
  },
  "language_info": {
   "codemirror_mode": {
    "name": "ipython",
    "version": 3
   },
   "file_extension": ".py",
   "mimetype": "text/x-python",
   "name": "python",
   "nbconvert_exporter": "python",
   "pygments_lexer": "ipython3",
   "version": "3.12.4"
  }
 },
 "nbformat": 4,
 "nbformat_minor": 2
}
